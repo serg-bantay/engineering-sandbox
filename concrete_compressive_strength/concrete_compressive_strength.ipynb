{
 "cells": [
  {
   "cell_type": "code",
   "execution_count": null,
   "metadata": {},
   "outputs": [],
   "source": [
    "import numpy as np\n",
    "import pandas as pd\n",
    "import matplotlib.pyplot as plt\n",
    "import seaborn as sns"
   ]
  },
  {
   "cell_type": "code",
   "execution_count": null,
   "metadata": {},
   "outputs": [],
   "source": [
    "df = pd.read_csv(\"concrete_compressive_strength_data.csv\")\n",
    "df.info()"
   ]
  },
  {
   "cell_type": "code",
   "execution_count": null,
   "metadata": {},
   "outputs": [],
   "source": [
    "\n",
    "df.head()"
   ]
  },
  {
   "cell_type": "code",
   "execution_count": null,
   "metadata": {},
   "outputs": [],
   "source": [
    "df.isna().any()"
   ]
  },
  {
   "cell_type": "code",
   "execution_count": null,
   "metadata": {},
   "outputs": [],
   "source": [
    "# Visualizing the different variables' relationships\n",
    "sns.pairplot(data=df[['cement', 'water', 'age', 'superplastic', 'coarseagg', 'fineagg', 'strength']], plot_kws={'alpha':0.3, 's':20, 'color':'crimson'}, diag_kws={'color':'crimson'}, diag_kind='kde')"
   ]
  },
  {
   "cell_type": "code",
   "execution_count": null,
   "metadata": {},
   "outputs": [],
   "source": [
    "# Adding features based on the variable relationships\n",
    "df['log_strength'] = np.log(df['strength'])\n",
    "df['log_water'] = np.log(df['water'])\n",
    "df['log_age'] = np.log(df['age'])\n",
    "df['log_superplastic'] = np.log(df['superplastic'])\n",
    "df['water_cement_ratio'] = df['water'] / df['cement']"
   ]
  },
  {
   "cell_type": "code",
   "execution_count": null,
   "metadata": {},
   "outputs": [],
   "source": [
    "# Checking the correlations of the chosen variables\n",
    "df_corr = df.corr().round(2)\n",
    "\n",
    "plt.figure(figsize=(10, 8))\n",
    "sns.heatmap(df_corr, annot=True, annot_kws={'size':'10'}, vmax=1, vmin=-1, fmt='.1f')\n",
    "plt.xticks(rotation=50, ha='right')"
   ]
  },
  {
   "cell_type": "code",
   "execution_count": null,
   "metadata": {},
   "outputs": [],
   "source": [
    "df_corr['strength_absval'] = df_corr['strength'].abs()\n",
    "df_corr[['strength', 'strength_absval']].sort_values(by='strength_absval', ascending=False)[1:]"
   ]
  },
  {
   "cell_type": "code",
   "execution_count": null,
   "metadata": {},
   "outputs": [],
   "source": [
    "# Selecting predictors, target, and then splitting the data\n",
    "from sklearn.model_selection import train_test_split\n",
    "predictors = ['log_age', 'water', 'cement', 'superplastic']\n",
    "target = ['strength']\n",
    "\n",
    "X = df[predictors]\n",
    "y = df[target]\n",
    "\n",
    "X_train, X_test, y_train, y_test = train_test_split(X, y, test_size=0.2, random_state=42)"
   ]
  },
  {
   "cell_type": "code",
   "execution_count": null,
   "metadata": {},
   "outputs": [],
   "source": [
    "# Joining the training data for outlier removal\n",
    "Xy_train = X_train\n",
    "Xy_train[target] = y_train"
   ]
  },
  {
   "cell_type": "code",
   "execution_count": null,
   "metadata": {},
   "outputs": [],
   "source": [
    "# Checking the outliers visually\n",
    "sns.boxplot(data=Xy_train)"
   ]
  },
  {
   "cell_type": "code",
   "execution_count": null,
   "metadata": {},
   "outputs": [],
   "source": [
    "# Removing outliers in the training set for 1 iteration\n",
    "\n",
    "# Defining outlier removal function\n",
    "def remove_outliers(df, column):\n",
    "\n",
    "    Q1 = df[column].quantile(0.25)\n",
    "    Q3 = df[column].quantile(0.75)\n",
    "    IQR = Q3-Q1\n",
    "    lower_bound = Q1 - 1.5 * IQR\n",
    "    upper_bound = Q3 + 1.5 * IQR\n",
    "\n",
    "    filtered_df = df[(df[column] >= lower_bound) & (df[column] <= upper_bound)]\n",
    "    return filtered_df\n",
    "\n",
    "\n",
    "# Removing outliers in train set only\n",
    "for i in range(0,len(predictors)):\n",
    "  Xy_train = remove_outliers(Xy_train, predictors[i])\n",
    "\n",
    "for j in range(0,len(target)):\n",
    "  Xy_train = remove_outliers(Xy_train, target[j])\n",
    "\n",
    "# Splitting to X_train_f and y_train_f\n",
    "X_train_f = Xy_train[predictors]\n",
    "y_train_f = Xy_train[target]"
   ]
  },
  {
   "cell_type": "code",
   "execution_count": null,
   "metadata": {},
   "outputs": [],
   "source": [
    "# Checking the boxplot after removing outliers for 1 iteration\n",
    "sns.boxplot(data=Xy_train)"
   ]
  },
  {
   "cell_type": "code",
   "execution_count": null,
   "metadata": {},
   "outputs": [],
   "source": [
    "# Fitting the training data set, then plugging in the X_test to get y_pred\n",
    "from sklearn.linear_model import LinearRegression\n",
    "\n",
    "reg = LinearRegression()\n",
    "reg.fit(X_train_f, y_train_f)\n",
    "\n",
    "y_pred = reg.predict(X_test)"
   ]
  },
  {
   "cell_type": "code",
   "execution_count": null,
   "metadata": {},
   "outputs": [],
   "source": [
    "# Plotting Predicted vs. Actual\n",
    "y_test = np.array(y_test).flatten()\n",
    "y_pred = y_pred.flatten()\n",
    "\n",
    "residuals = y_test - y_pred\n",
    "plt.figure(figsize=(10, 8))\n",
    "sns.scatterplot(x=y_test, y=y_pred, color='black')\n",
    "plt.plot([y_test.min(), y_test.max()], [y_test.min(), y_test.max()], color='crimson', linestyle='--')\n",
    "plt.xlabel('Actual Strength')\n",
    "plt.ylabel('Predicted Strength')\n",
    "plt.title('Actual vs Predicted Strength')\n",
    "plt.grid(True)\n",
    "plt.show()"
   ]
  },
  {
   "cell_type": "code",
   "execution_count": null,
   "metadata": {},
   "outputs": [],
   "source": [
    "# Plotting Residuals vs. Predicted\n",
    "residuals = y_test - y_pred\n",
    "\n",
    "plt.figure(figsize=(10, 8))\n",
    "sns.scatterplot(x=y_pred, y=residuals, color='black')\n",
    "plt.axhline(0, color='red', linestyle='--')\n",
    "plt.xlabel('Predicted Strength')\n",
    "plt.ylabel('Residuals')\n",
    "plt.title('Residuals vs Predicted Values')\n",
    "plt.grid(True)\n",
    "plt.show()"
   ]
  },
  {
   "cell_type": "code",
   "execution_count": null,
   "metadata": {},
   "outputs": [],
   "source": [
    "# Calculating for model metrics\n",
    "from sklearn.metrics import mean_absolute_error, mean_squared_error, r2_score\n",
    "import numpy as np\n",
    "\n",
    "mae = mean_absolute_error(y_test, y_pred)\n",
    "rmse = np.sqrt(mean_squared_error(y_test, y_pred))\n",
    "r2 = r2_score(y_test, y_pred)\n",
    "\n",
    "print(f\"MAE: {mae:.2f}\")\n",
    "print(f\"RMSE: {rmse:.2f}\")\n",
    "print(f\"R² Score: {r2:.2f}\")"
   ]
  },
  {
   "cell_type": "code",
   "execution_count": null,
   "metadata": {},
   "outputs": [],
   "source": [
    "# Extracting the coefficients and intercept from the model\n",
    "coefficients = reg.coef_\n",
    "intercept = reg.intercept_\n",
    "\n",
    "print(\"Intercept:\", intercept)\n",
    "print(\"Coefficients:\", coefficients)\n",
    "\n",
    "feature_names = X_train_f.columns\n",
    "\n",
    "equation = f\"y = {intercept[0]:.2f}\"\n",
    "for coef, name in zip(coefficients[0], feature_names):\n",
    "    equation += f\" + ({coef:.2f} × {name})\"\n",
    "\n",
    "print(\"Linear Regression Equation:\")\n",
    "print(equation)"
   ]
  }
 ],
 "metadata": {
  "language_info": {
   "name": "python"
  }
 },
 "nbformat": 4,
 "nbformat_minor": 2
}
